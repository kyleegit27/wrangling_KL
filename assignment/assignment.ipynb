{
  "cells": [
    {
      "cell_type": "markdown",
      "id": "13ad028b-72b7-43ed-aa78-96fd4e518040",
      "metadata": {
        "id": "13ad028b-72b7-43ed-aa78-96fd4e518040"
      },
      "source": [
        "# Assignment: Data Wrangling\n",
        "### `! git clone https://github.com/ds4e/wrangling`\n",
        "### Do Q2, and one of Q1 or Q3."
      ]
    },
    {
      "cell_type": "code",
      "source": [
        "! git clone https://github.com/ds4e/wrangling"
      ],
      "metadata": {
        "colab": {
          "base_uri": "https://localhost:8080/"
        },
        "id": "reCEN3-LWEV3",
        "outputId": "fb40fd0b-a4de-4d89-da8a-14d374065e8d"
      },
      "id": "reCEN3-LWEV3",
      "execution_count": 1,
      "outputs": [
        {
          "output_type": "stream",
          "name": "stdout",
          "text": [
            "Cloning into 'wrangling'...\n",
            "remote: Enumerating objects: 63, done.\u001b[K\n",
            "remote: Counting objects: 100% (18/18), done.\u001b[K\n",
            "remote: Compressing objects: 100% (13/13), done.\u001b[K\n",
            "remote: Total 63 (delta 8), reused 5 (delta 5), pack-reused 45 (from 1)\u001b[K\n",
            "Receiving objects: 100% (63/63), 13.84 MiB | 8.59 MiB/s, done.\n",
            "Resolving deltas: 100% (14/14), done.\n"
          ]
        }
      ]
    },
    {
      "cell_type": "code",
      "source": [
        "#choosing Q2 and Q3"
      ],
      "metadata": {
        "id": "OMfEWysVWMC0"
      },
      "id": "OMfEWysVWMC0",
      "execution_count": null,
      "outputs": []
    },
    {
      "cell_type": "code",
      "source": [
        "#importing modules\n",
        "\n",
        "import pandas as pd\n",
        "import numpy as np\n",
        "import matplotlib.pyplot as plt\n",
        "import seaborn as sns"
      ],
      "metadata": {
        "id": "6wmCbIsjW_go"
      },
      "id": "6wmCbIsjW_go",
      "execution_count": 2,
      "outputs": []
    },
    {
      "cell_type": "code",
      "source": [
        "#importing dataframe\n",
        "#first downloaded dataset, then uploaded it to the github data file to import, was having issues adding the file directly from the local file path of my computer\n",
        "sharks = pd.read_excel(\"/content/wrangling/data/GSAF5.xls\")"
      ],
      "metadata": {
        "id": "CdoswkUwXaVx"
      },
      "id": "CdoswkUwXaVx",
      "execution_count": 166,
      "outputs": []
    },
    {
      "cell_type": "markdown",
      "id": "da879ea7-8aac-48a3-b6c2-daea56d2e072",
      "metadata": {
        "id": "da879ea7-8aac-48a3-b6c2-daea56d2e072"
      },
      "source": [
        "**Q1.** This question provides some practice cleaning variables which have common problems.\n",
        "1. Numeric variable: For `./data/airbnb_hw.csv`, clean the `Price` variable as well as you can, and explain the choices you make. How many missing values do you end up with? (Hint: What happens to the formatting when a price goes over 999 dollars, say from 675 to 1,112?)\n",
        "2. Categorical variable: For the Minnesota police use of for data, `./data/mn_police_use_of_force.csv`, clean the `subject_injury` variable, handling the NA's; this gives a value `Yes` when a person was injured by police, and `No` when no injury occurred. What proportion of the values are missing? Is this a concern? Cross-tabulate your cleaned `subject_injury` variable with the `force_type` variable. Are there any patterns regarding when the data are missing?\n",
        "3. Dummy variable: For the pretrial data covered in the lecture, clean the `WhetherDefendantWasReleasedPretrial` variable as well as you can, and, in particular, replace missing values with `np.nan`.\n",
        "4. Missing values, not at random: For the pretrial data covered in the lecture, clean the `ImposedSentenceAllChargeInContactEvent` variable as well as you can, and explain the choices you make. (Hint: Look at the `SentenceTypeAllChargesAtConvictionInContactEvent` variable.)"
      ]
    },
    {
      "cell_type": "markdown",
      "id": "5a60a44e",
      "metadata": {
        "id": "5a60a44e"
      },
      "source": [
        "**Q2.** Go to https://sharkattackfile.net/ and download their dataset on shark attacks.\n",
        "\n",
        "1. Open the shark attack file using Pandas. It is probably not a csv file, so `read_csv` won't work.\n",
        "2. Drop any columns that do not contain data.\n",
        "3. Clean the year variable. Describe the range of values you see. Filter the rows to focus on attacks since 1940. Are attacks increasing, decreasing, or remaining constant over time?\n",
        "4. Clean the Age variable and make a histogram of the ages of the victims.\n",
        "5. What proportion of victims are male?\n",
        "6. Clean the `Type` variable so it only takes three values: Provoked and Unprovoked and Unknown. What proportion of attacks are unprovoked?\n",
        "7. Clean the `Fatal Y/N` variable so it only takes three values: Y, N, and Unknown.\n",
        "8. Are sharks more likely to launch unprovoked attacks on men or women? Is the attack more or less likely to be fatal when the attack is provoked or unprovoked? Is it more or less likely to be fatal when the victim is male or female? How do you feel about sharks?\n",
        "9. What proportion of attacks appear to be by white sharks? (Hint: `str.split()` makes a vector of text values into a list of lists, split by spaces.)"
      ]
    },
    {
      "cell_type": "code",
      "source": [
        "sharks.shape\n",
        "#23 columns"
      ],
      "metadata": {
        "colab": {
          "base_uri": "https://localhost:8080/"
        },
        "id": "CBb0JZq9Zpkc",
        "outputId": "fd9a4eac-44dc-4e1f-9ee7-b2b95ae6b663"
      },
      "id": "CBb0JZq9Zpkc",
      "execution_count": 13,
      "outputs": [
        {
          "output_type": "execute_result",
          "data": {
            "text/plain": [
              "(6990, 23)"
            ]
          },
          "metadata": {},
          "execution_count": 13
        }
      ]
    },
    {
      "cell_type": "code",
      "source": [
        "sharks.columns"
      ],
      "metadata": {
        "colab": {
          "base_uri": "https://localhost:8080/"
        },
        "id": "1hTyLjlCZaCr",
        "outputId": "37a20566-a4d9-4672-c4c2-f412d5e30091"
      },
      "id": "1hTyLjlCZaCr",
      "execution_count": 11,
      "outputs": [
        {
          "output_type": "execute_result",
          "data": {
            "text/plain": [
              "Index(['Date', 'Year', 'Type', 'Country', 'State', 'Location', 'Activity',\n",
              "       'Name', 'Sex', 'Age', 'Injury', 'Fatal Y/N', 'Time', 'Species ',\n",
              "       'Source', 'pdf', 'href formula', 'href', 'Case Number', 'Case Number.1',\n",
              "       'original order', 'Unnamed: 21', 'Unnamed: 22'],\n",
              "      dtype='object')"
            ]
          },
          "metadata": {},
          "execution_count": 11
        }
      ]
    },
    {
      "cell_type": "code",
      "source": [
        "#dropping pdf, href formula, href, Case Number, Case Number.1 cols[15-19], cannot see all 23 columns at once"
      ],
      "metadata": {
        "id": "twmk1WdQZ4Hy"
      },
      "id": "twmk1WdQZ4Hy",
      "execution_count": null,
      "outputs": []
    },
    {
      "cell_type": "code",
      "source": [
        "#drop column by index , inplace argument modifies the original, inplace = F: makes a copy of the df, axis = 1 indicates columns, axis =2 indicates rows\n",
        "#df.drop(df.columns[1], axis =1, inplace = True) or drop by name df.drop(columns = ['col', 'col2'])"
      ],
      "metadata": {
        "id": "9LJHgSOSahn5"
      },
      "id": "9LJHgSOSahn5",
      "execution_count": null,
      "outputs": []
    },
    {
      "cell_type": "code",
      "source": [
        "#sharks.drop[sharks.columns[15:23], axis=1, inplace = True]"
      ],
      "metadata": {
        "colab": {
          "base_uri": "https://localhost:8080/",
          "height": 106
        },
        "id": "oQ_j7G6SaLrV",
        "outputId": "d596e8c1-dfb0-499b-f526-21ab28b6f95b"
      },
      "id": "oQ_j7G6SaLrV",
      "execution_count": 19,
      "outputs": [
        {
          "output_type": "error",
          "ename": "SyntaxError",
          "evalue": "invalid syntax. Maybe you meant '==' or ':=' instead of '='? (<ipython-input-19-3b00f484ec41>, line 1)",
          "traceback": [
            "\u001b[0;36m  File \u001b[0;32m\"<ipython-input-19-3b00f484ec41>\"\u001b[0;36m, line \u001b[0;32m1\u001b[0m\n\u001b[0;31m    sharks.drop[sharks.columns[15:23], axis=1, inplace = True]\u001b[0m\n\u001b[0m                                       ^\u001b[0m\n\u001b[0;31mSyntaxError\u001b[0m\u001b[0;31m:\u001b[0m invalid syntax. Maybe you meant '==' or ':=' instead of '='?\n"
          ]
        }
      ]
    },
    {
      "cell_type": "code",
      "source": [
        "#question 2.2\n",
        "sharks = sharks.drop(columns=['pdf', 'href', 'href formula', 'Case Number', 'Case Number.1', 'original order', 'Unnamed: 21', 'Unnamed: 22']) #all had NA values"
      ],
      "metadata": {
        "id": "gF4fkz28aATN"
      },
      "id": "gF4fkz28aATN",
      "execution_count": 167,
      "outputs": []
    },
    {
      "cell_type": "code",
      "source": [
        "# 2.3 Clean the year variable. Describe the range of values you see. Filter the rows to focus on attacks since 1940.\n",
        "# Are attacks increasing, decreasing, or remaining constant over time?\n",
        "\n",
        "#drop .0 at the end -- turn from double to integer\n",
        "#use .astype(int) if no n/a values\n",
        "#sharks['Year']= pd.to_numeric(sharks['Year'], downcast = 'integer') did not work?\n",
        "#errors = 'coerce' preserves n/a values\n",
        "sharks['Year'] = pd.to_numeric(sharks['Year'], errors= 'coerce').astype('Int64')\n",
        "\n",
        "#.drop used for dropping rows and columns, need x for modifying values inside of a column\n",
        "#drop .0 at the end of each year\n",
        "#replace() method refers to text/string data not numeric\n",
        "\n",
        "#sharks['Year'].describe()\n",
        "#verifying\n",
        "sharks['Year'].value_counts()\n",
        "#vaule_counts() counts unique occurances in table format\n",
        "\n",
        "#drop max (2026) do not make sense\n",
        "# use ~ (boolean not operator)\n",
        "#dropping 2026 values b/c is not a possible data point\n",
        "sharks = sharks[~sharks['Year'].isin([2026.0])]\n",
        "\n",
        "\n",
        "#describe range of values\n",
        "sharks['Year'].describe()\n",
        "#There are more reports since 1985 (50% of the data is held between 1985 and the present).\n",
        "\n",
        "#filter rows to be 1940 -present\n",
        "late_sharks = sharks[sharks['Year'] >= 1940]\n",
        "len(late_sharks) #5455\n",
        "#filter rows to be early - 1939\n",
        "early_sharks = sharks[sharks['Year'] <= 1939]\n",
        "len(early_sharks) #1402\n",
        "#find counts of each + compare + describe\n",
        "#There are 5455 reported sharks attacks since 1940 on this dataset and 1402 (about 20% of the later attacks) before the year 1940. There seems to be a large increase\n",
        "#in attacks. This could be for a variety of reasons, likely due to the ease of communication and reporting in recent years."
      ],
      "metadata": {
        "colab": {
          "base_uri": "https://localhost:8080/"
        },
        "id": "PMaeOKFUcGSZ",
        "outputId": "9c23bc37-8a2b-421f-9aab-bdb8ef43c31c"
      },
      "id": "PMaeOKFUcGSZ",
      "execution_count": 168,
      "outputs": [
        {
          "output_type": "execute_result",
          "data": {
            "text/plain": [
              "1532"
            ]
          },
          "metadata": {},
          "execution_count": 168
        }
      ]
    },
    {
      "cell_type": "code",
      "source": [
        "# 2.4 Clean the Age variable and make a histogram of the ages of the victims.\n",
        "\n",
        "#cleaning age variable\n",
        "sharks['Age'].describe()\n",
        "#sharks.head(5)\n",
        "#drop n/a value for the histogram in the age column by making a copy of the dataframe\n",
        "#make a copy\n",
        "sharks_copy = sharks.copy()\n",
        "\n",
        "#sharks_copy = sharks_copy.dropna(subset= ['Age'])\n",
        "#drop string values\n",
        "\n",
        "#regex = False to replace exact patterns ... too many irregular entries\n",
        "#sharks_copy['Age'] = sharks_copy['Age'].replace(['Teens', '28, 23 & 30', '46 & 34', '30 or 36', 'M', '6 1/2', '33 or 37', '21 & ?', '23 & 20', 'mid-30s', '!2', '20/30', '!!', '7 & 31'], np.nan , regex = False)\n",
        "#sharks_copy['Age'].describe()\n",
        "\n",
        "sharks_copy['Age'].value_counts()\n",
        "\n",
        "\n",
        "#histogram of ages of victims\n",
        "#ignore n/a values, convert non-numeric values to na\n",
        "#determine bin count\n",
        "\n",
        "n = len(sharks_copy['Age'].dropna())\n",
        "bins = int(np.sqrt(n))\n",
        "\n",
        "sharks_copy['Age'] = pd.to_numeric(sharks_copy['Age'], errors = 'coerce')\n",
        "\n",
        "sharks_copy.dropna().hist(bins = bins, column = 'Age', edgecolor='black')\n",
        "\n"
      ],
      "metadata": {
        "colab": {
          "base_uri": "https://localhost:8080/",
          "height": 469
        },
        "id": "c_vLmFOZj6co",
        "outputId": "ac8bbfe2-537d-4076-dfbd-cc9aa175e8d8"
      },
      "id": "c_vLmFOZj6co",
      "execution_count": 169,
      "outputs": [
        {
          "output_type": "execute_result",
          "data": {
            "text/plain": [
              "array([[<Axes: title={'center': 'Age'}>]], dtype=object)"
            ]
          },
          "metadata": {},
          "execution_count": 169
        },
        {
          "output_type": "display_data",
          "data": {
            "text/plain": [
              "<Figure size 640x480 with 1 Axes>"
            ],
            "image/png": "[encoded data removed]"
          },
          "metadata": {}
        }
      ]
    },
    {
      "cell_type": "code",
      "source": [
        "#2.5 What proportion of victims are male?\n",
        "\n",
        "#male victims/total victims with gender reporting\n",
        "\n",
        "#male victims\n",
        "male = sharks[sharks['Sex']=='M']\n",
        "m = len(male)\n",
        "#female victims\n",
        "female = sharks[sharks['Sex']=='F']\n",
        "f = len(female)\n",
        "\n",
        "f + m\n",
        "#proportion\n",
        "m / (f+ m)\n"
      ],
      "metadata": {
        "colab": {
          "base_uri": "https://localhost:8080/"
        },
        "id": "s2-fXvafnqo5",
        "outputId": "09999adb-672e-42d4-8f68-fade6657e6c2"
      },
      "id": "s2-fXvafnqo5",
      "execution_count": 170,
      "outputs": [
        {
          "output_type": "execute_result",
          "data": {
            "text/plain": [
              "0.8764448609809434"
            ]
          },
          "metadata": {},
          "execution_count": 170
        }
      ]
    },
    {
      "cell_type": "code",
      "source": [
        "# 2.6 Clean the Type variable so it only takes three values: Provoked and Unprovoked and Unknown. What proportion of attacks are unprovoked?\n",
        "\n",
        "#clean Type variable - to take: Provoked, Unprovoked, Unknown, drop n/a, other\n",
        "sharks.copy2 = sharks.copy()\n",
        "\n",
        "#list other entries of type as unknown\n",
        "\n",
        "#sharks.copy2['Type'].value_counts()\n",
        "\n",
        "#sharks.copy2 =sharks.copy2[sharks.copy2['Type'].isin(['Unprovoked', 'Provoked', 'Unknown'])]\n",
        "\n",
        "#replacing other entries as unknown\n",
        "#.replace() expects values not conditions\n",
        "#use .loc for conditions and strings in rows\n",
        "#argument: row condition, column name, new value\n",
        "sharks.copy2.loc[~sharks.copy2['Type'].isin(['Unprovoked', 'Provoked']), 'Type'] = 'Unknown'\n",
        "\n",
        "#verify\n",
        "sharks.copy2['Type'].value_counts()\n",
        "\n",
        "\n",
        "#unprovoked attacks/total of cleaned type variable\n",
        "\n",
        "#unprovoked\n",
        "\n",
        "un = sharks.copy2[sharks.copy2['Type'] == 'Unprovoked']\n",
        "num_unprovoked = len(un)\n",
        "\n",
        "#total\n",
        "total = len(sharks.copy2)\n",
        "\n",
        "\n",
        "#proportion\n",
        "num_unprovoked/ total"
      ],
      "metadata": {
        "colab": {
          "base_uri": "https://localhost:8080/"
        },
        "id": "7aSE2rjKrqZQ",
        "outputId": "223f6c99-e267-4861-81ca-6c9c2e47c71c"
      },
      "id": "7aSE2rjKrqZQ",
      "execution_count": 171,
      "outputs": [
        {
          "output_type": "stream",
          "name": "stderr",
          "text": [
            "<ipython-input-171-d7842ab861b9>:4: UserWarning: Pandas doesn't allow columns to be created via a new attribute name - see https://pandas.pydata.org/pandas-docs/stable/indexing.html#attribute-access\n",
            "  sharks.copy2 = sharks.copy()\n"
          ]
        },
        {
          "output_type": "execute_result",
          "data": {
            "text/plain": [
              "0.7368722277865217"
            ]
          },
          "metadata": {},
          "execution_count": 171
        }
      ]
    },
    {
      "cell_type": "code",
      "source": [
        "#2.7 Clean the Fatal Y/N variable so it only takes three values: Y, N, and Unknown.\n",
        "\n",
        "#clean Fatal variable, divide into three types of values\n",
        "\n",
        "#sharks.columns\n",
        "\n",
        "sharks.loc[~sharks['Fatal Y/N'].isin(['Y', 'N']), 'Fatal Y/N'] = 'Unknown'\n",
        "\n",
        "#verify\n",
        "sharks['Fatal Y/N'].value_counts()\n"
      ],
      "metadata": {
        "colab": {
          "base_uri": "https://localhost:8080/",
          "height": 209
        },
        "id": "8EiULNhc5Dpz",
        "outputId": "10099d35-eae2-45a1-e284-fcef0f50fa76"
      },
      "id": "8EiULNhc5Dpz",
      "execution_count": 172,
      "outputs": [
        {
          "output_type": "execute_result",
          "data": {
            "text/plain": [
              "Fatal Y/N\n",
              "N          4869\n",
              "Y          1468\n",
              "Unknown     652\n",
              "Name: count, dtype: int64"
            ],
            "text/html": [
              "<div>\n",
              "<style scoped>\n",
              "    .dataframe tbody tr th:only-of-type {\n",
              "        vertical-align: middle;\n",
              "    }\n",
              "\n",
              "    .dataframe tbody tr th {\n",
              "        vertical-align: top;\n",
              "    }\n",
              "\n",
              "    .dataframe thead th {\n",
              "        text-align: right;\n",
              "    }\n",
              "</style>\n",
              "<table border=\"1\" class=\"dataframe\">\n",
              "  <thead>\n",
              "    <tr style=\"text-align: right;\">\n",
              "      <th></th>\n",
              "      <th>count</th>\n",
              "    </tr>\n",
              "    <tr>\n",
              "      <th>Fatal Y/N</th>\n",
              "      <th></th>\n",
              "    </tr>\n",
              "  </thead>\n",
              "  <tbody>\n",
              "    <tr>\n",
              "      <th>N</th>\n",
              "      <td>4869</td>\n",
              "    </tr>\n",
              "    <tr>\n",
              "      <th>Y</th>\n",
              "      <td>1468</td>\n",
              "    </tr>\n",
              "    <tr>\n",
              "      <th>Unknown</th>\n",
              "      <td>652</td>\n",
              "    </tr>\n",
              "  </tbody>\n",
              "</table>\n",
              "</div><br><label><b>dtype:</b> int64</label>"
            ]
          },
          "metadata": {},
          "execution_count": 172
        }
      ]
    },
    {
      "cell_type": "code",
      "source": [
        "# 2.8 Are sharks more likely to launch unprovoked attacks on men or women?\n",
        "#subset unprovoked, then look at men/women counts individually\n",
        "#.shape[0] returns num of rows that match the condition\n",
        "#use & operator for and statements\n",
        "#use .loc for specific row conditions\n",
        "#conditions need to be in separate parentheses\n",
        "\n",
        "unprov_male = sharks.copy2.loc[(sharks.copy2['Type']=='Unprovoked') & (sharks.copy2['Sex'] == 'M')].shape[0]\n",
        "\n",
        "unprov_female = sharks.copy2.loc[(sharks.copy2['Type']=='Unprovoked') & (sharks.copy2['Sex']=='F')].shape[0]\n",
        "\n",
        "unprov_male #4217\n",
        "unprov_female #656\n",
        "\n",
        "unprov_female > unprov_male\n",
        "#There are about 4217 cases of unrpovoked male shark attacks and 656 cases of unprovoked female shark attacks. Given the large disparity in the data, it seems that\n",
        "#males are more likely to get attacked in these conditions.\n",
        "\n",
        "#Is the attack more or less likely to be fatal when the attack is provoked or unprovoked?\n",
        "prov_fatal = sharks.copy2.loc[(sharks.copy2['Type']=='Provoked') & (sharks.copy2['Fatal Y/N']=='Y')].shape[0] # 19\n",
        "\n",
        "unprov_fatal = sharks.copy2.loc[(sharks.copy2['Type'] == 'Unprovoked') & (sharks.copy2['Fatal Y/N'] == 'Y')].shape[0] #1199\n",
        "\n",
        "prov_fatal > unprov_fatal\n",
        "# It is much more likely for the attack to be unprovoked and fatal than provoked and fatal.\n",
        "\n",
        "# Is it more or less likely to be fatal when the victim is male or female?\n",
        "fatal_f = sharks.copy2.loc[(sharks.copy2['Sex'] == 'F') & (sharks.copy2['Fatal Y/N']== 'Y')].shape[0] #117\n",
        "\n",
        "fatal_m = sharks.copy2.loc[(sharks.copy2['Sex']== 'M') & (sharks.copy2['Fatal Y/N'] == 'Y')].shape[0] #1186\n",
        "\n",
        "fatal_f > fatal_m\n",
        "\n",
        "#There are many more cases of male fatalities than female fatalities from shark attacks according to this dataset.\n",
        "\n",
        "#How do you feel about sharks?\n",
        "# I don't like sharks. I never have. They are not cool. My family unknowingly went to the capital of shark bites beach this past summer. I saw it on the t-shirts there, so\n",
        "#obviously I did not go in the water. My parents told me not to tell my siblings because they would freak out, so I just let them go. Everyone was fine, but I did not enjoy that trip."
      ],
      "metadata": {
        "colab": {
          "base_uri": "https://localhost:8080/"
        },
        "id": "aVfhJ2Nl6EkX",
        "outputId": "e17965dc-2575-4d5e-af28-f3742c3cf69c"
      },
      "id": "aVfhJ2Nl6EkX",
      "execution_count": 173,
      "outputs": [
        {
          "output_type": "execute_result",
          "data": {
            "text/plain": [
              "False"
            ]
          },
          "metadata": {},
          "execution_count": 173
        }
      ]
    },
    {
      "cell_type": "code",
      "source": [
        "# 2.9 What proportion of attacks appear to be by white sharks? (Hint: str.split() makes a vector of text values into a list of lists, split by spaces.)\n",
        "#use 'Species ' column\n",
        "\n",
        "#rename Species column to remove white space in name\n",
        "sharks = sharks.rename(columns = {'Species ': 'Species'})\n",
        "\n",
        "#keep as a name format as a list, split on space delimiter\n",
        "#sharks['full name'] = sharks['full name'].str.split(' ')\n",
        "#str.split()\n",
        "#white includes all types of white sharks, including whitetailed, etc., otherwise I would put a space after 'white ' in the contains to be more specific\n",
        "white = sharks[sharks['Species'].str.contains('white', na = False)]\n",
        "\n",
        "#breed.tail(10)\n",
        "#white sharks total\n",
        "wh = len(white) #243\n",
        "\n",
        "#total_attacks\n",
        "tot = len(sharks) #6989\n",
        "#proportion : white/total_attacks\n",
        "wh/tot\n"
      ],
      "metadata": {
        "colab": {
          "base_uri": "https://localhost:8080/"
        },
        "id": "nQy-ehm__BlN",
        "outputId": "3e176862-73b9-4726-ad41-a6735a56a036"
      },
      "id": "nQy-ehm__BlN",
      "execution_count": 191,
      "outputs": [
        {
          "output_type": "execute_result",
          "data": {
            "text/plain": [
              "0.034768922592645586"
            ]
          },
          "metadata": {},
          "execution_count": 191
        }
      ]
    },
    {
      "cell_type": "markdown",
      "id": "5735a4d4-8be8-433a-a351-70eb8002e632",
      "metadata": {
        "id": "5735a4d4-8be8-433a-a351-70eb8002e632"
      },
      "source": [
        "**Q3.** Open the \"tidy_data.pdf\" document in the repo, which is a paper called Tidy Data by Hadley Wickham.\n",
        "\n",
        "  1. Read the abstract. What is this paper about?\n",
        "  2. Read the introduction. What is the \"tidy data standard\" intended to accomplish?\n",
        "  3. Read the intro to section 2. What does this sentence mean: \"Like families, tidy datasets are all alike but every messy dataset is messy in its own way.\" What does this sentence mean: \"For a given dataset, it’s usually easy to figure out what are observations and what are variables, but it is surprisingly difficult to precisely define variables and observations in general.\"\n",
        "  4. Read Section 2.2. How does Wickham define values, variables, and observations?\n",
        "  5. How is \"Tidy Data\" defined in section 2.3?\n",
        "  6. Read the intro to Section 3 and Section 3.1. What are the 5 most common problems with messy datasets? Why are the data in Table 4 messy? What is \"melting\" a dataset?\n",
        "  7. Why, specifically, is table 11 messy but table 12 tidy and \"molten\"?\n",
        "  8. Read Section 6. What is the \"chicken-and-egg\" problem with focusing on tidy data? What does Wickham hope happens in the future with further work on the subject of data wrangling?"
      ]
    },
    {
      "cell_type": "code",
      "source": [
        "#3.1 This paper is about a framework used to tidy up messy data sets for easy data manipulation.\n",
        "\n",
        "# 3.2  The tidy data standard is made so the initial data cleaning/exploration is simplified and to organize data values within a dataset.\n",
        "\n",
        "\n",
        "#3.3 The first statement means that clean datasets are alike in that the same tools can be used to manipulate the data and extract what you need, whereas with messy\n",
        "#data, the different datasets require different tools and methods unique to the entries and columns of the data.\n",
        "\n",
        "#The second statement, in the context of R/coding, means that observations are layed out as rows and variables are layed out as columns in a dataframe, which makes\n",
        "#this distinction easy. But outside of this context, people struggle with marking the difference in the term definitions.\n",
        "\n",
        "#3.4 Wickham defines values as belonging to a variable and observation, typically in the form of numbers or strings. He defines variables as containing all values\n",
        "#measured on the same underlying attribute across units. He defines observation as containing all values measured on the same unit acorss attributes.\n",
        "\n",
        "#3.5 Tidy Data is defined in section 2.3 as a standard way of mapping the meaning of a datset to its structure. It has the following three characteristics:\n",
        "#each variables forms a column; each observation forms a row; each type of observational unit forms a table.\n",
        "\n",
        "#3.6 The five most common problems with messy datasets are :\n",
        "#The data in Table4 is messy because\n",
        "#Melting data is\n",
        "\n",
        "#3.7 Table 11 is messy b/c..\n",
        "#Table 12 is tidy and molten bc\n",
        "\n",
        "#3.8 The chicken and the egg problem focusslddfd\n",
        "#Wickham hopes that in the future ...(data wrangling)\n"
      ],
      "metadata": {
        "id": "0saoOupiD-RK"
      },
      "id": "0saoOupiD-RK",
      "execution_count": null,
      "outputs": []
    },
    {
      "cell_type": "markdown",
      "id": "649494cd-cfd6-4f80-992a-9994fc19e1d5",
      "metadata": {
        "id": "649494cd-cfd6-4f80-992a-9994fc19e1d5"
      },
      "source": [
        "**Q4.** Many important datasets contain a race variable, typically limited to a handful of values often including Black, White, Asian, Latino, and Indigenous. This question looks at data gathering efforts on this variable by the U.S. Federal government.\n",
        "\n",
        "1. How did the most recent US Census gather data on race?\n",
        "2. Why do we gather these data? What role do these kinds of data play in politics and society? Why does data quality matter?\n",
        "3. Please provide a constructive criticism of how the Census was conducted: What was done well? What do you think was missing? How should future large scale surveys be adjusted to best reflect the diversity of the population? Could some of the Census' good practices be adopted more widely to gather richer and more useful data?\n",
        "4. How did the Census gather data on sex and gender? Please provide a similar constructive criticism of their practices.\n",
        "5. When it comes to cleaning data, what concerns do you have about protected characteristics like sex, gender, sexual identity, or race? What challenges can you imagine arising when there are missing values? What good or bad practices might people adopt, and why?\n",
        "6. Suppose someone invented an algorithm to impute values for protected characteristics like race, gender, sex, or sexuality. What kinds of concerns would you have?"
      ]
    }
  ],
  "metadata": {
    "colab": {
      "provenance": []
    },
    "kernelspec": {
      "display_name": "Python 3 (ipykernel)",
      "language": "python",
      "name": "python3"
    },
    "language_info": {
      "codemirror_mode": {
        "name": "ipython",
        "version": 3
      },
      "file_extension": ".py",
      "mimetype": "text/x-python",
      "name": "python",
      "nbconvert_exporter": "python",
      "pygments_lexer": "ipython3",
      "version": "3.10.4"
    }
  },
  "nbformat": 4,
  "nbformat_minor": 5
}