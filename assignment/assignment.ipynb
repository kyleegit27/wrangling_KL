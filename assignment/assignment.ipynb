{
  "cells": [
    {
      "cell_type": "markdown",
      "id": "13ad028b-72b7-43ed-aa78-96fd4e518040",
      "metadata": {
        "id": "13ad028b-72b7-43ed-aa78-96fd4e518040"
      },
      "source": [
        "# Assignment: Data Wrangling\n",
        "### `! git clone https://github.com/ds4e/wrangling`\n",
        "### Do Q2, and one of Q1 or Q3."
      ]
    },
    {
      "cell_type": "code",
      "source": [
        "! git clone https://github.com/ds4e/wrangling"
      ],
      "metadata": {
        "colab": {
          "base_uri": "https://localhost:8080/"
        },
        "id": "reCEN3-LWEV3",
        "outputId": "fb40fd0b-a4de-4d89-da8a-14d374065e8d"
      },
      "id": "reCEN3-LWEV3",
      "execution_count": 1,
      "outputs": [
        {
          "output_type": "stream",
          "name": "stdout",
          "text": [
            "Cloning into 'wrangling'...\n",
            "remote: Enumerating objects: 63, done.\u001b[K\n",
            "remote: Counting objects: 100% (18/18), done.\u001b[K\n",
            "remote: Compressing objects: 100% (13/13), done.\u001b[K\n",
            "remote: Total 63 (delta 8), reused 5 (delta 5), pack-reused 45 (from 1)\u001b[K\n",
            "Receiving objects: 100% (63/63), 13.84 MiB | 8.59 MiB/s, done.\n",
            "Resolving deltas: 100% (14/14), done.\n"
          ]
        }
      ]
    },
    {
      "cell_type": "code",
      "source": [
        "#choosing Q2 and Q3"
      ],
      "metadata": {
        "id": "OMfEWysVWMC0"
      },
      "id": "OMfEWysVWMC0",
      "execution_count": null,
      "outputs": []
    },
    {
      "cell_type": "code",
      "source": [
        "#importing modules\n",
        "\n",
        "import pandas as pd\n",
        "import numpy as np\n",
        "import matplotlib.pyplot as plt\n",
        "import seaborn as sns"
      ],
      "metadata": {
        "id": "6wmCbIsjW_go"
      },
      "id": "6wmCbIsjW_go",
      "execution_count": 2,
      "outputs": []
    },
    {
      "cell_type": "code",
      "source": [
        "#importing dataframe\n",
        "#first downloaded dataset, then uploaded it to the github data file to import, was having issues adding the file directly from the local file path of my computer\n",
        "sharks = pd.read_excel(\"/content/wrangling/data/GSAF5.xls\")"
      ],
      "metadata": {
        "id": "CdoswkUwXaVx"
      },
      "id": "CdoswkUwXaVx",
      "execution_count": 20,
      "outputs": []
    },
    {
      "cell_type": "markdown",
      "id": "da879ea7-8aac-48a3-b6c2-daea56d2e072",
      "metadata": {
        "id": "da879ea7-8aac-48a3-b6c2-daea56d2e072"
      },
      "source": [
        "**Q1.** This question provides some practice cleaning variables which have common problems.\n",
        "1. Numeric variable: For `./data/airbnb_hw.csv`, clean the `Price` variable as well as you can, and explain the choices you make. How many missing values do you end up with? (Hint: What happens to the formatting when a price goes over 999 dollars, say from 675 to 1,112?)\n",
        "2. Categorical variable: For the Minnesota police use of for data, `./data/mn_police_use_of_force.csv`, clean the `subject_injury` variable, handling the NA's; this gives a value `Yes` when a person was injured by police, and `No` when no injury occurred. What proportion of the values are missing? Is this a concern? Cross-tabulate your cleaned `subject_injury` variable with the `force_type` variable. Are there any patterns regarding when the data are missing?\n",
        "3. Dummy variable: For the pretrial data covered in the lecture, clean the `WhetherDefendantWasReleasedPretrial` variable as well as you can, and, in particular, replace missing values with `np.nan`.\n",
        "4. Missing values, not at random: For the pretrial data covered in the lecture, clean the `ImposedSentenceAllChargeInContactEvent` variable as well as you can, and explain the choices you make. (Hint: Look at the `SentenceTypeAllChargesAtConvictionInContactEvent` variable.)"
      ]
    },
    {
      "cell_type": "markdown",
      "id": "5a60a44e",
      "metadata": {
        "id": "5a60a44e"
      },
      "source": [
        "**Q2.** Go to https://sharkattackfile.net/ and download their dataset on shark attacks.\n",
        "\n",
        "1. Open the shark attack file using Pandas. It is probably not a csv file, so `read_csv` won't work.\n",
        "2. Drop any columns that do not contain data.\n",
        "3. Clean the year variable. Describe the range of values you see. Filter the rows to focus on attacks since 1940. Are attacks increasing, decreasing, or remaining constant over time?\n",
        "4. Clean the Age variable and make a histogram of the ages of the victims.\n",
        "5. What proportion of victims are male?\n",
        "6. Clean the `Type` variable so it only takes three values: Provoked and Unprovoked and Unknown. What proportion of attacks are unprovoked?\n",
        "7. Clean the `Fatal Y/N` variable so it only takes three values: Y, N, and Unknown.\n",
        "8. Are sharks more likely to launch unprovoked attacks on men or women? Is the attack more or less likely to be fatal when the attack is provoked or unprovoked? Is it more or less likely to be fatal when the victim is male or female? How do you feel about sharks?\n",
        "9. What proportion of attacks appear to be by white sharks? (Hint: `str.split()` makes a vector of text values into a list of lists, split by spaces.)"
      ]
    },
    {
      "cell_type": "code",
      "source": [
        "sharks.shape\n",
        "#23 columns"
      ],
      "metadata": {
        "colab": {
          "base_uri": "https://localhost:8080/"
        },
        "id": "CBb0JZq9Zpkc",
        "outputId": "fd9a4eac-44dc-4e1f-9ee7-b2b95ae6b663"
      },
      "id": "CBb0JZq9Zpkc",
      "execution_count": 13,
      "outputs": [
        {
          "output_type": "execute_result",
          "data": {
            "text/plain": [
              "(6990, 23)"
            ]
          },
          "metadata": {},
          "execution_count": 13
        }
      ]
    },
    {
      "cell_type": "code",
      "source": [
        "sharks.columns"
      ],
      "metadata": {
        "colab": {
          "base_uri": "https://localhost:8080/"
        },
        "id": "1hTyLjlCZaCr",
        "outputId": "37a20566-a4d9-4672-c4c2-f412d5e30091"
      },
      "id": "1hTyLjlCZaCr",
      "execution_count": 11,
      "outputs": [
        {
          "output_type": "execute_result",
          "data": {
            "text/plain": [
              "Index(['Date', 'Year', 'Type', 'Country', 'State', 'Location', 'Activity',\n",
              "       'Name', 'Sex', 'Age', 'Injury', 'Fatal Y/N', 'Time', 'Species ',\n",
              "       'Source', 'pdf', 'href formula', 'href', 'Case Number', 'Case Number.1',\n",
              "       'original order', 'Unnamed: 21', 'Unnamed: 22'],\n",
              "      dtype='object')"
            ]
          },
          "metadata": {},
          "execution_count": 11
        }
      ]
    },
    {
      "cell_type": "code",
      "source": [
        "#dropping pdf, href formula, href, Case Number, Case Number.1 cols[15-19], cannot see all 23 columns at once"
      ],
      "metadata": {
        "id": "twmk1WdQZ4Hy"
      },
      "id": "twmk1WdQZ4Hy",
      "execution_count": null,
      "outputs": []
    },
    {
      "cell_type": "code",
      "source": [
        "#drop column by index , inplace argument modifies the original, inplace = F: makes a copy of the df, axis = 1 indicates columns, axis =2 indicates rows\n",
        "#df.drop(df.columns[1], axis =1, inplace = True) or drop by name df.drop(columns = ['col', 'col2'])"
      ],
      "metadata": {
        "id": "9LJHgSOSahn5"
      },
      "id": "9LJHgSOSahn5",
      "execution_count": null,
      "outputs": []
    },
    {
      "cell_type": "code",
      "source": [
        "#sharks.drop[sharks.columns[15:23], axis=1, inplace = True]"
      ],
      "metadata": {
        "colab": {
          "base_uri": "https://localhost:8080/",
          "height": 106
        },
        "id": "oQ_j7G6SaLrV",
        "outputId": "d596e8c1-dfb0-499b-f526-21ab28b6f95b"
      },
      "id": "oQ_j7G6SaLrV",
      "execution_count": 19,
      "outputs": [
        {
          "output_type": "error",
          "ename": "SyntaxError",
          "evalue": "invalid syntax. Maybe you meant '==' or ':=' instead of '='? (<ipython-input-19-3b00f484ec41>, line 1)",
          "traceback": [
            "\u001b[0;36m  File \u001b[0;32m\"<ipython-input-19-3b00f484ec41>\"\u001b[0;36m, line \u001b[0;32m1\u001b[0m\n\u001b[0;31m    sharks.drop[sharks.columns[15:23], axis=1, inplace = True]\u001b[0m\n\u001b[0m                                       ^\u001b[0m\n\u001b[0;31mSyntaxError\u001b[0m\u001b[0;31m:\u001b[0m invalid syntax. Maybe you meant '==' or ':=' instead of '='?\n"
          ]
        }
      ]
    },
    {
      "cell_type": "code",
      "source": [
        "#question 2.2\n",
        "sharks = sharks.drop(columns=['pdf', 'href', 'href formula', 'Case Number', 'Case Number.1', 'original order', 'Unnamed: 21', 'Unnamed: 22']) #all had NA values"
      ],
      "metadata": {
        "id": "gF4fkz28aATN"
      },
      "id": "gF4fkz28aATN",
      "execution_count": 38,
      "outputs": []
    },
    {
      "cell_type": "code",
      "source": [
        "#sharks.head(10)"
      ],
      "metadata": {
        "colab": {
          "base_uri": "https://localhost:8080/",
          "height": 1262
        },
        "id": "VUT3r6QmZO1R",
        "outputId": "7da4dce8-15cd-4c17-f36c-d66a06c222c7"
      },
      "id": "VUT3r6QmZO1R",
      "execution_count": 10,
      "outputs": [
        {
          "output_type": "execute_result",
          "data": {
            "text/plain": [
              "                  Date    Year        Type        Country  \\\n",
              "0  2025-01-11 00:00:00  2025.0    Provoked            USA   \n",
              "1  2025-01-02 00:00:00  2025.0  Unprovoked  New Caledonia   \n",
              "2  2025-01-02 00:00:00  2025.0  Unprovoked      Australia   \n",
              "3  2024-12-29 00:00:00  2024.0  Unprovoked          Egypt   \n",
              "4  2024-12-29 00:00:00  2024.0  Unprovoked          Egypt   \n",
              "5  2024-12-28 00:00:00  2024.0  Unprovoked      Australia   \n",
              "6  2024-12-02 00:00:00  2024.0  Unprovoked      Australia   \n",
              "7  2024-12-01 00:00:00  2024.0  Unprovoked      Australia   \n",
              "8  2024-11-30 00:00:00  2024.0  Unprovoked       Thailand   \n",
              "9  2024-11-19 00:00:00  2024.0  Unprovoked    New Zealand   \n",
              "\n",
              "                 State                                           Location  \\\n",
              "0               Hawaii                      Off Haleiwa Boat Harbour Oahu   \n",
              "1         Grande Terre                        Islet of Kendek near Koumac   \n",
              "2      South Australia            Granites Beach near Westall Streaky Bay   \n",
              "3  North of Marsa Alam                                            Red Sea   \n",
              "4  North of Marsa Alam                                            Red Sea   \n",
              "5           Queensland                   Humpy Island Great Keppel Island   \n",
              "6           Queensland     Curtis Island Near Gladstone QLD central coast   \n",
              "7    Western Australia  Greenough River Mouth Beach Cape Burney 12km s...   \n",
              "8   Phang Nga Province                                     Khao Lak Beach   \n",
              "9      Bay of Waitangi                                    Chatham Islands   \n",
              "\n",
              "       Activity                                    Name Sex  Age  ...  \\\n",
              "0        Diving  Male not stated was a dive tour worker   M   23  ...   \n",
              "1  Spearfishing                        Robert Cuewapuru   M   40  ...   \n",
              "2       Surfing                           Lance Appleby   M   28  ...   \n",
              "3  SCUBA Diving                         Peppino Fappani   M   69  ...   \n",
              "4  SCUBA Diving                       Gianluca Di Gioia   M   48  ...   \n",
              "5  Spearfishing                            Luke Walford   M   40  ...   \n",
              "6  Spearfishing                              Not stated   M  60+  ...   \n",
              "7       Surfing                  James Sweetman (child)   M    ?  ...   \n",
              "8      Swimming                              Elke Maier   F   57  ...   \n",
              "9        Diving                     Jade Kahukore-Dixon   M   24  ...   \n",
              "\n",
              "                                 Species   \\\n",
              "0                              Not stated   \n",
              "1          Reportedly Tiger or Bull shark   \n",
              "2  Great White Shart estimated 4.8m 16 ft   \n",
              "3                Reportedly a Tiger Shark   \n",
              "4                Reportedly a Tiger Shark   \n",
              "5                                Unknown    \n",
              "6                              Not stated   \n",
              "7                1m shark species unknown   \n",
              "8                                 Unknown   \n",
              "9                       Great White Shark   \n",
              "\n",
              "                                              Source  pdf href formula href  \\\n",
              "0                  Kevin McMurray Trackingsharks.com  NaN          NaN  NaN   \n",
              "1                      Johannes Marchand Todd Smith   NaN          NaN  NaN   \n",
              "2  Glen Folkard: Simon De Marchi News.com.au: The...  NaN          NaN  NaN   \n",
              "3  Todd Smith : Kevin McMurray Trackingsharks .co...  NaN          NaN  NaN   \n",
              "4  Todd Smith : Kevin McMurray Trackingsharks .co...  NaN          NaN  NaN   \n",
              "5  Todd Smith Glen Folkard ABC News: The North We...  NaN          NaN  NaN   \n",
              "6                                  Glen Folkard GSAF  NaN          NaN  NaN   \n",
              "7                                     Bob Myatt GSAF  NaN          NaN  NaN   \n",
              "8                Kevin McMurray Tracking Sharks.com   NaN          NaN  NaN   \n",
              "9  Glen Folkhard: Todd Smith: Andy Currie Kevin M...  NaN          NaN  NaN   \n",
              "\n",
              "  Case Number Case Number.1 original order Unnamed: 21 Unnamed: 22  \n",
              "0         NaN           NaN            NaN         NaN         NaN  \n",
              "1         NaN           NaN            NaN         NaN         NaN  \n",
              "2         NaN           NaN            NaN         NaN         NaN  \n",
              "3         NaN           NaN            NaN         NaN         NaN  \n",
              "4         NaN           NaN            NaN         NaN         NaN  \n",
              "5         NaN           NaN            NaN         NaN         NaN  \n",
              "6         NaN           NaN            NaN         NaN         NaN  \n",
              "7         NaN           NaN            NaN         NaN         NaN  \n",
              "8         NaN           NaN            NaN         NaN         NaN  \n",
              "9         NaN           NaN            NaN         NaN         NaN  \n",
              "\n",
              "[10 rows x 23 columns]"
            ],
            "text/html": [
              "\n",
              "  <div id=\"df-f1178faa-e081-4f79-8fc7-7d0ce14eec41\" class=\"colab-df-container\">\n",
              "    <div>\n",
              "<style scoped>\n",
              "    .dataframe tbody tr th:only-of-type {\n",
              "        vertical-align: middle;\n",
              "    }\n",
              "\n",
              "    .dataframe tbody tr th {\n",
              "        vertical-align: top;\n",
              "    }\n",
              "\n",
              "    .dataframe thead th {\n",
              "        text-align: right;\n",
              "    }\n",
              "</style>\n",
              "<table border=\"1\" class=\"dataframe\">\n",
              "  <thead>\n",
              "    <tr style=\"text-align: right;\">\n",
              "      <th></th>\n",
              "      <th>Date</th>\n",
              "      <th>Year</th>\n",
              "      <th>Type</th>\n",
              "      <th>Country</th>\n",
              "      <th>State</th>\n",
              "      <th>Location</th>\n",
              "      <th>Activity</th>\n",
              "      <th>Name</th>\n",
              "      <th>Sex</th>\n",
              "      <th>Age</th>\n",
              "      <th>...</th>\n",
              "      <th>Species</th>\n",
              "      <th>Source</th>\n",
              "      <th>pdf</th>\n",
              "      <th>href formula</th>\n",
              "      <th>href</th>\n",
              "      <th>Case Number</th>\n",
              "      <th>Case Number.1</th>\n",
              "      <th>original order</th>\n",
              "      <th>Unnamed: 21</th>\n",
              "      <th>Unnamed: 22</th>\n",
              "    </tr>\n",
              "  </thead>\n",
              "  <tbody>\n",
              "    <tr>\n",
              "      <th>0</th>\n",
              "      <td>2025-01-11 00:00:00</td>\n",
              "      <td>2025.0</td>\n",
              "      <td>Provoked</td>\n",
              "      <td>USA</td>\n",
              "      <td>Hawaii</td>\n",
              "      <td>Off Haleiwa Boat Harbour Oahu</td>\n",
              "      <td>Diving</td>\n",
              "      <td>Male not stated was a dive tour worker</td>\n",
              "      <td>M</td>\n",
              "      <td>23</td>\n",
              "      <td>...</td>\n",
              "      <td>Not stated</td>\n",
              "      <td>Kevin McMurray Trackingsharks.com</td>\n",
              "      <td>NaN</td>\n",
              "      <td>NaN</td>\n",
              "      <td>NaN</td>\n",
              "      <td>NaN</td>\n",
              "      <td>NaN</td>\n",
              "      <td>NaN</td>\n",
              "      <td>NaN</td>\n",
              "      <td>NaN</td>\n",
              "    </tr>\n",
              "    <tr>\n",
              "      <th>1</th>\n",
              "      <td>2025-01-02 00:00:00</td>\n",
              "      <td>2025.0</td>\n",
              "      <td>Unprovoked</td>\n",
              "      <td>New Caledonia</td>\n",
              "      <td>Grande Terre</td>\n",
              "      <td>Islet of Kendek near Koumac</td>\n",
              "      <td>Spearfishing</td>\n",
              "      <td>Robert Cuewapuru</td>\n",
              "      <td>M</td>\n",
              "      <td>40</td>\n",
              "      <td>...</td>\n",
              "      <td>Reportedly Tiger or Bull shark</td>\n",
              "      <td>Johannes Marchand Todd Smith</td>\n",
              "      <td>NaN</td>\n",
              "      <td>NaN</td>\n",
              "      <td>NaN</td>\n",
              "      <td>NaN</td>\n",
              "      <td>NaN</td>\n",
              "      <td>NaN</td>\n",
              "      <td>NaN</td>\n",
              "      <td>NaN</td>\n",
              "    </tr>\n",
              "    <tr>\n",
              "      <th>2</th>\n",
              "      <td>2025-01-02 00:00:00</td>\n",
              "      <td>2025.0</td>\n",
              "      <td>Unprovoked</td>\n",
              "      <td>Australia</td>\n",
              "      <td>South Australia</td>\n",
              "      <td>Granites Beach near Westall Streaky Bay</td>\n",
              "      <td>Surfing</td>\n",
              "      <td>Lance Appleby</td>\n",
              "      <td>M</td>\n",
              "      <td>28</td>\n",
              "      <td>...</td>\n",
              "      <td>Great White Shart estimated 4.8m 16 ft</td>\n",
              "      <td>Glen Folkard: Simon De Marchi News.com.au: The...</td>\n",
              "      <td>NaN</td>\n",
              "      <td>NaN</td>\n",
              "      <td>NaN</td>\n",
              "      <td>NaN</td>\n",
              "      <td>NaN</td>\n",
              "      <td>NaN</td>\n",
              "      <td>NaN</td>\n",
              "      <td>NaN</td>\n",
              "    </tr>\n",
              "    <tr>\n",
              "      <th>3</th>\n",
              "      <td>2024-12-29 00:00:00</td>\n",
              "      <td>2024.0</td>\n",
              "      <td>Unprovoked</td>\n",
              "      <td>Egypt</td>\n",
              "      <td>North of Marsa Alam</td>\n",
              "      <td>Red Sea</td>\n",
              "      <td>SCUBA Diving</td>\n",
              "      <td>Peppino Fappani</td>\n",
              "      <td>M</td>\n",
              "      <td>69</td>\n",
              "      <td>...</td>\n",
              "      <td>Reportedly a Tiger Shark</td>\n",
              "      <td>Todd Smith : Kevin McMurray Trackingsharks .co...</td>\n",
              "      <td>NaN</td>\n",
              "      <td>NaN</td>\n",
              "      <td>NaN</td>\n",
              "      <td>NaN</td>\n",
              "      <td>NaN</td>\n",
              "      <td>NaN</td>\n",
              "      <td>NaN</td>\n",
              "      <td>NaN</td>\n",
              "    </tr>\n",
              "    <tr>\n",
              "      <th>4</th>\n",
              "      <td>2024-12-29 00:00:00</td>\n",
              "      <td>2024.0</td>\n",
              "      <td>Unprovoked</td>\n",
              "      <td>Egypt</td>\n",
              "      <td>North of Marsa Alam</td>\n",
              "      <td>Red Sea</td>\n",
              "      <td>SCUBA Diving</td>\n",
              "      <td>Gianluca Di Gioia</td>\n",
              "      <td>M</td>\n",
              "      <td>48</td>\n",
              "      <td>...</td>\n",
              "      <td>Reportedly a Tiger Shark</td>\n",
              "      <td>Todd Smith : Kevin McMurray Trackingsharks .co...</td>\n",
              "      <td>NaN</td>\n",
              "      <td>NaN</td>\n",
              "      <td>NaN</td>\n",
              "      <td>NaN</td>\n",
              "      <td>NaN</td>\n",
              "      <td>NaN</td>\n",
              "      <td>NaN</td>\n",
              "      <td>NaN</td>\n",
              "    </tr>\n",
              "    <tr>\n",
              "      <th>5</th>\n",
              "      <td>2024-12-28 00:00:00</td>\n",
              "      <td>2024.0</td>\n",
              "      <td>Unprovoked</td>\n",
              "      <td>Australia</td>\n",
              "      <td>Queensland</td>\n",
              "      <td>Humpy Island Great Keppel Island</td>\n",
              "      <td>Spearfishing</td>\n",
              "      <td>Luke Walford</td>\n",
              "      <td>M</td>\n",
              "      <td>40</td>\n",
              "      <td>...</td>\n",
              "      <td>Unknown</td>\n",
              "      <td>Todd Smith Glen Folkard ABC News: The North We...</td>\n",
              "      <td>NaN</td>\n",
              "      <td>NaN</td>\n",
              "      <td>NaN</td>\n",
              "      <td>NaN</td>\n",
              "      <td>NaN</td>\n",
              "      <td>NaN</td>\n",
              "      <td>NaN</td>\n",
              "      <td>NaN</td>\n",
              "    </tr>\n",
              "    <tr>\n",
              "      <th>6</th>\n",
              "      <td>2024-12-02 00:00:00</td>\n",
              "      <td>2024.0</td>\n",
              "      <td>Unprovoked</td>\n",
              "      <td>Australia</td>\n",
              "      <td>Queensland</td>\n",
              "      <td>Curtis Island Near Gladstone QLD central coast</td>\n",
              "      <td>Spearfishing</td>\n",
              "      <td>Not stated</td>\n",
              "      <td>M</td>\n",
              "      <td>60+</td>\n",
              "      <td>...</td>\n",
              "      <td>Not stated</td>\n",
              "      <td>Glen Folkard GSAF</td>\n",
              "      <td>NaN</td>\n",
              "      <td>NaN</td>\n",
              "      <td>NaN</td>\n",
              "      <td>NaN</td>\n",
              "      <td>NaN</td>\n",
              "      <td>NaN</td>\n",
              "      <td>NaN</td>\n",
              "      <td>NaN</td>\n",
              "    </tr>\n",
              "    <tr>\n",
              "      <th>7</th>\n",
              "      <td>2024-12-01 00:00:00</td>\n",
              "      <td>2024.0</td>\n",
              "      <td>Unprovoked</td>\n",
              "      <td>Australia</td>\n",
              "      <td>Western Australia</td>\n",
              "      <td>Greenough River Mouth Beach Cape Burney 12km s...</td>\n",
              "      <td>Surfing</td>\n",
              "      <td>James Sweetman (child)</td>\n",
              "      <td>M</td>\n",
              "      <td>?</td>\n",
              "      <td>...</td>\n",
              "      <td>1m shark species unknown</td>\n",
              "      <td>Bob Myatt GSAF</td>\n",
              "      <td>NaN</td>\n",
              "      <td>NaN</td>\n",
              "      <td>NaN</td>\n",
              "      <td>NaN</td>\n",
              "      <td>NaN</td>\n",
              "      <td>NaN</td>\n",
              "      <td>NaN</td>\n",
              "      <td>NaN</td>\n",
              "    </tr>\n",
              "    <tr>\n",
              "      <th>8</th>\n",
              "      <td>2024-11-30 00:00:00</td>\n",
              "      <td>2024.0</td>\n",
              "      <td>Unprovoked</td>\n",
              "      <td>Thailand</td>\n",
              "      <td>Phang Nga Province</td>\n",
              "      <td>Khao Lak Beach</td>\n",
              "      <td>Swimming</td>\n",
              "      <td>Elke Maier</td>\n",
              "      <td>F</td>\n",
              "      <td>57</td>\n",
              "      <td>...</td>\n",
              "      <td>Unknown</td>\n",
              "      <td>Kevin McMurray Tracking Sharks.com</td>\n",
              "      <td>NaN</td>\n",
              "      <td>NaN</td>\n",
              "      <td>NaN</td>\n",
              "      <td>NaN</td>\n",
              "      <td>NaN</td>\n",
              "      <td>NaN</td>\n",
              "      <td>NaN</td>\n",
              "      <td>NaN</td>\n",
              "    </tr>\n",
              "    <tr>\n",
              "      <th>9</th>\n",
              "      <td>2024-11-19 00:00:00</td>\n",
              "      <td>2024.0</td>\n",
              "      <td>Unprovoked</td>\n",
              "      <td>New Zealand</td>\n",
              "      <td>Bay of Waitangi</td>\n",
              "      <td>Chatham Islands</td>\n",
              "      <td>Diving</td>\n",
              "      <td>Jade Kahukore-Dixon</td>\n",
              "      <td>M</td>\n",
              "      <td>24</td>\n",
              "      <td>...</td>\n",
              "      <td>Great White Shark</td>\n",
              "      <td>Glen Folkhard: Todd Smith: Andy Currie Kevin M...</td>\n",
              "      <td>NaN</td>\n",
              "      <td>NaN</td>\n",
              "      <td>NaN</td>\n",
              "      <td>NaN</td>\n",
              "      <td>NaN</td>\n",
              "      <td>NaN</td>\n",
              "      <td>NaN</td>\n",
              "      <td>NaN</td>\n",
              "    </tr>\n",
              "  </tbody>\n",
              "</table>\n",
              "<p>10 rows × 23 columns</p>\n",
              "</div>\n",
              "    <div class=\"colab-df-buttons\">\n",
              "\n",
              "  <div class=\"colab-df-container\">\n",
              "    <button class=\"colab-df-convert\" onclick=\"convertToInteractive('df-f1178faa-e081-4f79-8fc7-7d0ce14eec41')\"\n",
              "            title=\"Convert this dataframe to an interactive table.\"\n",
              "            style=\"display:none;\">\n",
              "\n",
              "  <svg xmlns=\"http://www.w3.org/2000/svg\" height=\"24px\" viewBox=\"0 -960 960 960\">\n",
              "    <path d=\"M120-120v-720h720v720H120Zm60-500h600v-160H180v160Zm220 220h160v-160H400v160Zm0 220h160v-160H400v160ZM180-400h160v-160H180v160Zm440 0h160v-160H620v160ZM180-180h160v-160H180v160Zm440 0h160v-160H620v160Z\"/>\n",
              "  </svg>\n",
              "    </button>\n",
              "\n",
              "  <style>\n",
              "    .colab-df-container {\n",
              "      display:flex;\n",
              "      gap: 12px;\n",
              "    }\n",
              "\n",
              "    .colab-df-convert {\n",
              "      background-color: #E8F0FE;\n",
              "      border: none;\n",
              "      border-radius: 50%;\n",
              "      cursor: pointer;\n",
              "      display: none;\n",
              "      fill: #1967D2;\n",
              "      height: 32px;\n",
              "      padding: 0 0 0 0;\n",
              "      width: 32px;\n",
              "    }\n",
              "\n",
              "    .colab-df-convert:hover {\n",
              "      background-color: #E2EBFA;\n",
              "      box-shadow: 0px 1px 2px rgba(60, 64, 67, 0.3), 0px 1px 3px 1px rgba(60, 64, 67, 0.15);\n",
              "      fill: #174EA6;\n",
              "    }\n",
              "\n",
              "    .colab-df-buttons div {\n",
              "      margin-bottom: 4px;\n",
              "    }\n",
              "\n",
              "    [theme=dark] .colab-df-convert {\n",
              "      background-color: #3B4455;\n",
              "      fill: #D2E3FC;\n",
              "    }\n",
              "\n",
              "    [theme=dark] .colab-df-convert:hover {\n",
              "      background-color: #434B5C;\n",
              "      box-shadow: 0px 1px 3px 1px rgba(0, 0, 0, 0.15);\n",
              "      filter: drop-shadow(0px 1px 2px rgba(0, 0, 0, 0.3));\n",
              "      fill: #FFFFFF;\n",
              "    }\n",
              "  </style>\n",
              "\n",
              "    <script>\n",
              "      const buttonEl =\n",
              "        document.querySelector('#df-f1178faa-e081-4f79-8fc7-7d0ce14eec41 button.colab-df-convert');\n",
              "      buttonEl.style.display =\n",
              "        google.colab.kernel.accessAllowed ? 'block' : 'none';\n",
              "\n",
              "      async function convertToInteractive(key) {\n",
              "        const element = document.querySelector('#df-f1178faa-e081-4f79-8fc7-7d0ce14eec41');\n",
              "        const dataTable =\n",
              "          await google.colab.kernel.invokeFunction('convertToInteractive',\n",
              "                                                    [key], {});\n",
              "        if (!dataTable) return;\n",
              "\n",
              "        const docLinkHtml = 'Like what you see? Visit the ' +\n",
              "          '<a target=\"_blank\" href=https://colab.research.google.com/notebooks/data_table.ipynb>data table notebook</a>'\n",
              "          + ' to learn more about interactive tables.';\n",
              "        element.innerHTML = '';\n",
              "        dataTable['output_type'] = 'display_data';\n",
              "        await google.colab.output.renderOutput(dataTable, element);\n",
              "        const docLink = document.createElement('div');\n",
              "        docLink.innerHTML = docLinkHtml;\n",
              "        element.appendChild(docLink);\n",
              "      }\n",
              "    </script>\n",
              "  </div>\n",
              "\n",
              "\n",
              "<div id=\"df-b8d4f113-a8df-4fd2-8d7b-0b4ab87deb78\">\n",
              "  <button class=\"colab-df-quickchart\" onclick=\"quickchart('df-b8d4f113-a8df-4fd2-8d7b-0b4ab87deb78')\"\n",
              "            title=\"Suggest charts\"\n",
              "            style=\"display:none;\">\n",
              "\n",
              "<svg xmlns=\"http://www.w3.org/2000/svg\" height=\"24px\"viewBox=\"0 0 24 24\"\n",
              "     width=\"24px\">\n",
              "    <g>\n",
              "        <path d=\"M19 3H5c-1.1 0-2 .9-2 2v14c0 1.1.9 2 2 2h14c1.1 0 2-.9 2-2V5c0-1.1-.9-2-2-2zM9 17H7v-7h2v7zm4 0h-2V7h2v10zm4 0h-2v-4h2v4z\"/>\n",
              "    </g>\n",
              "</svg>\n",
              "  </button>\n",
              "\n",
              "<style>\n",
              "  .colab-df-quickchart {\n",
              "      --bg-color: #E8F0FE;\n",
              "      --fill-color: #1967D2;\n",
              "      --hover-bg-color: #E2EBFA;\n",
              "      --hover-fill-color: #174EA6;\n",
              "      --disabled-fill-color: #AAA;\n",
              "      --disabled-bg-color: #DDD;\n",
              "  }\n",
              "\n",
              "  [theme=dark] .colab-df-quickchart {\n",
              "      --bg-color: #3B4455;\n",
              "      --fill-color: #D2E3FC;\n",
              "      --hover-bg-color: #434B5C;\n",
              "      --hover-fill-color: #FFFFFF;\n",
              "      --disabled-bg-color: #3B4455;\n",
              "      --disabled-fill-color: #666;\n",
              "  }\n",
              "\n",
              "  .colab-df-quickchart {\n",
              "    background-color: var(--bg-color);\n",
              "    border: none;\n",
              "    border-radius: 50%;\n",
              "    cursor: pointer;\n",
              "    display: none;\n",
              "    fill: var(--fill-color);\n",
              "    height: 32px;\n",
              "    padding: 0;\n",
              "    width: 32px;\n",
              "  }\n",
              "\n",
              "  .colab-df-quickchart:hover {\n",
              "    background-color: var(--hover-bg-color);\n",
              "    box-shadow: 0 1px 2px rgba(60, 64, 67, 0.3), 0 1px 3px 1px rgba(60, 64, 67, 0.15);\n",
              "    fill: var(--button-hover-fill-color);\n",
              "  }\n",
              "\n",
              "  .colab-df-quickchart-complete:disabled,\n",
              "  .colab-df-quickchart-complete:disabled:hover {\n",
              "    background-color: var(--disabled-bg-color);\n",
              "    fill: var(--disabled-fill-color);\n",
              "    box-shadow: none;\n",
              "  }\n",
              "\n",
              "  .colab-df-spinner {\n",
              "    border: 2px solid var(--fill-color);\n",
              "    border-color: transparent;\n",
              "    border-bottom-color: var(--fill-color);\n",
              "    animation:\n",
              "      spin 1s steps(1) infinite;\n",
              "  }\n",
              "\n",
              "  @keyframes spin {\n",
              "    0% {\n",
              "      border-color: transparent;\n",
              "      border-bottom-color: var(--fill-color);\n",
              "      border-left-color: var(--fill-color);\n",
              "    }\n",
              "    20% {\n",
              "      border-color: transparent;\n",
              "      border-left-color: var(--fill-color);\n",
              "      border-top-color: var(--fill-color);\n",
              "    }\n",
              "    30% {\n",
              "      border-color: transparent;\n",
              "      border-left-color: var(--fill-color);\n",
              "      border-top-color: var(--fill-color);\n",
              "      border-right-color: var(--fill-color);\n",
              "    }\n",
              "    40% {\n",
              "      border-color: transparent;\n",
              "      border-right-color: var(--fill-color);\n",
              "      border-top-color: var(--fill-color);\n",
              "    }\n",
              "    60% {\n",
              "      border-color: transparent;\n",
              "      border-right-color: var(--fill-color);\n",
              "    }\n",
              "    80% {\n",
              "      border-color: transparent;\n",
              "      border-right-color: var(--fill-color);\n",
              "      border-bottom-color: var(--fill-color);\n",
              "    }\n",
              "    90% {\n",
              "      border-color: transparent;\n",
              "      border-bottom-color: var(--fill-color);\n",
              "    }\n",
              "  }\n",
              "</style>\n",
              "\n",
              "  <script>\n",
              "    async function quickchart(key) {\n",
              "      const quickchartButtonEl =\n",
              "        document.querySelector('#' + key + ' button');\n",
              "      quickchartButtonEl.disabled = true;  // To prevent multiple clicks.\n",
              "      quickchartButtonEl.classList.add('colab-df-spinner');\n",
              "      try {\n",
              "        const charts = await google.colab.kernel.invokeFunction(\n",
              "            'suggestCharts', [key], {});\n",
              "      } catch (error) {\n",
              "        console.error('Error during call to suggestCharts:', error);\n",
              "      }\n",
              "      quickchartButtonEl.classList.remove('colab-df-spinner');\n",
              "      quickchartButtonEl.classList.add('colab-df-quickchart-complete');\n",
              "    }\n",
              "    (() => {\n",
              "      let quickchartButtonEl =\n",
              "        document.querySelector('#df-b8d4f113-a8df-4fd2-8d7b-0b4ab87deb78 button');\n",
              "      quickchartButtonEl.style.display =\n",
              "        google.colab.kernel.accessAllowed ? 'block' : 'none';\n",
              "    })();\n",
              "  </script>\n",
              "</div>\n",
              "\n",
              "    </div>\n",
              "  </div>\n"
            ],
            "application/vnd.google.colaboratory.intrinsic+json": {
              "type": "dataframe",
              "variable_name": "sharks"
            }
          },
          "metadata": {},
          "execution_count": 10
        },
        {
          "output_type": "stream",
          "name": "stdout",
          "text": [
            "Warning: Total number of columns (23) exceeds max_columns (20) limiting to first (20) columns.\n"
          ]
        }
      ]
    },
    {
      "cell_type": "code",
      "source": [
        "# 2.3 Clean the year variable. Describe the range of values you see. Filter the rows to focus on attacks since 1940.\n",
        "# Are attacks increasing, decreasing, or remaining constant over time?\n",
        "\n",
        "#drop .0 at the end -- turn from double to integer\n",
        "#use .astype(int) if no n/a values\n",
        "#sharks['Year']= pd.to_numeric(sharks['Year'], downcast = 'integer') did not work?\n",
        "#errors = 'coerce' preserves n/a values\n",
        "sharks['Year'] = pd.to_numeric(sharks['Year'], errors= 'coerce').astype('Int64')\n",
        "\n",
        "#.drop used for dropping rows and columns, need x for modifying values inside of a column\n",
        "#drop .0 at the end of each year\n",
        "#replace() method refers to text/string data not numeric\n",
        "\n",
        "#sharks['Year'].describe()\n",
        "#verifying\n",
        "sharks['Year'].value_counts()\n",
        "#vaule_counts() counts unique occurances in table format\n",
        "\n",
        "#drop max (2026) do not make sense\n",
        "# use ~ (boolean not operator)\n",
        "#dropping 2026 values b/c is not a possible data point\n",
        "sharks = sharks[~sharks['Year'].isin([2026.0])]\n",
        "\n",
        "\n",
        "#describe range of values\n",
        "sharks['Year'].describe()\n",
        "#There are more reports since 1985 (50% of the data is held between 1985 and the present).\n",
        "\n",
        "#filter rows to be 1940 -present\n",
        "late_sharks = sharks[sharks['Year'] >= 1940]\n",
        "len(late_sharks) #5455\n",
        "#filter rows to be early - 1939\n",
        "early_sharks = sharks[sharks['Year'] <= 1939]\n",
        "len(early_sharks) #1402\n",
        "#find counts of each + compare + describe\n",
        "#There are 5455 reported sharks attacks since 1940 on this dataset and 1402 (about 20% of the later attacks) before the year 1940. There seems to be a large increase\n",
        "#in attacks. This could be for a variety of reasons, likely due to the ease of communication and reporting in recent years."
      ],
      "metadata": {
        "colab": {
          "base_uri": "https://localhost:8080/"
        },
        "id": "PMaeOKFUcGSZ",
        "outputId": "9d4216df-947a-422a-bedf-cf4f9e00db24"
      },
      "id": "PMaeOKFUcGSZ",
      "execution_count": 45,
      "outputs": [
        {
          "output_type": "execute_result",
          "data": {
            "text/plain": [
              "1402"
            ]
          },
          "metadata": {},
          "execution_count": 45
        }
      ]
    },
    {
      "cell_type": "code",
      "source": [
        "# 2.4 Clean the Age variable and make a histogram of the ages of the victims.\n",
        "\n",
        "#cleaning age variable\n",
        "sharks['Age'].describe()\n",
        "#sharks.head(5)\n",
        "#drop n/a value for the histogram in the age column by making a copy of the dataframe\n",
        "#make a copy\n",
        "sharks_copy = sharks.copy()\n",
        "\n",
        "#sharks_copy = sharks_copy.dropna(subset= ['Age'])\n",
        "#drop string values\n",
        "\n",
        "#regex = False to replace exact patterns ... too many irregular entries\n",
        "#sharks_copy['Age'] = sharks_copy['Age'].replace(['Teens', '28, 23 & 30', '46 & 34', '30 or 36', 'M', '6 1/2', '33 or 37', '21 & ?', '23 & 20', 'mid-30s', '!2', '20/30', '!!', '7 & 31'], np.nan , regex = False)\n",
        "#sharks_copy['Age'].describe()\n",
        "\n",
        "sharks_copy['Age'].value_counts()\n",
        "\n",
        "\n",
        "#histogram of ages of victims\n",
        "#ignore n/a values, convert non-numeric values to na\n",
        "#determine bin count\n",
        "\n",
        "n = len(sharks_copy['Age'].dropna())\n",
        "bins = int(np.sqrt(n))\n",
        "\n",
        "sharks_copy['Age'] = pd.to_numeric(sharks_copy['Age'], errors = 'coerce')\n",
        "\n",
        "sharks_copy.dropna().hist(bins = bins, column = 'Age', edgecolor='black')\n",
        "\n"
      ],
      "metadata": {
        "colab": {
          "base_uri": "https://localhost:8080/",
          "height": 469
        },
        "id": "c_vLmFOZj6co",
        "outputId": "d54e4282-4a9f-4951-fbc0-453c67f0771a"
      },
      "id": "c_vLmFOZj6co",
      "execution_count": 83,
      "outputs": [
        {
          "output_type": "execute_result",
          "data": {
            "text/plain": [
              "63"
            ]
          },
          "metadata": {},
          "execution_count": 83
        },
        {
          "output_type": "display_data",
          "data": {
            "text/plain": [
              "<Figure size 640x480 with 1 Axes>"
            ],
            "image/png": "[encoded data removed]"
          },
          "metadata": {}
        }
      ]
    },
    {
      "cell_type": "code",
      "source": [
        "#2.5 What proportion of victims are male?\n",
        "\n",
        "#male victims/total victims with gender reporting\n",
        "\n",
        "#male victims\n",
        "male = sharks[sharks['Sex']=='M']\n",
        "m = len(male)\n",
        "#female victims\n",
        "female = sharks[sharks['Sex']=='F']\n",
        "f = len(female)\n",
        "\n",
        "f + m\n",
        "#proportion\n",
        "m / (f+ m)\n"
      ],
      "metadata": {
        "colab": {
          "base_uri": "https://localhost:8080/"
        },
        "id": "s2-fXvafnqo5",
        "outputId": "bed47504-ec8e-4797-8aca-a6b3079d8857"
      },
      "id": "s2-fXvafnqo5",
      "execution_count": 91,
      "outputs": [
        {
          "output_type": "execute_result",
          "data": {
            "text/plain": [
              "0.8761146496815286"
            ]
          },
          "metadata": {},
          "execution_count": 91
        }
      ]
    },
    {
      "cell_type": "code",
      "source": [],
      "metadata": {
        "id": "7aSE2rjKrqZQ"
      },
      "id": "7aSE2rjKrqZQ",
      "execution_count": null,
      "outputs": []
    },
    {
      "cell_type": "markdown",
      "id": "5735a4d4-8be8-433a-a351-70eb8002e632",
      "metadata": {
        "id": "5735a4d4-8be8-433a-a351-70eb8002e632"
      },
      "source": [
        "**Q3.** Open the \"tidy_data.pdf\" document in the repo, which is a paper called Tidy Data by Hadley Wickham.\n",
        "\n",
        "  1. Read the abstract. What is this paper about?\n",
        "  2. Read the introduction. What is the \"tidy data standard\" intended to accomplish?\n",
        "  3. Read the intro to section 2. What does this sentence mean: \"Like families, tidy datasets are all alike but every messy dataset is messy in its own way.\" What does this sentence mean: \"For a given dataset, it’s usually easy to figure out what are observations and what are variables, but it is surprisingly difficult to precisely define variables and observations in general.\"\n",
        "  4. Read Section 2.2. How does Wickham define values, variables, and observations?\n",
        "  5. How is \"Tidy Data\" defined in section 2.3?\n",
        "  6. Read the intro to Section 3 and Section 3.1. What are the 5 most common problems with messy datasets? Why are the data in Table 4 messy? What is \"melting\" a dataset?\n",
        "  7. Why, specifically, is table 11 messy but table 12 tidy and \"molten\"?\n",
        "  8. Read Section 6. What is the \"chicken-and-egg\" problem with focusing on tidy data? What does Wickham hope happens in the future with further work on the subject of data wrangling?"
      ]
    },
    {
      "cell_type": "markdown",
      "id": "649494cd-cfd6-4f80-992a-9994fc19e1d5",
      "metadata": {
        "id": "649494cd-cfd6-4f80-992a-9994fc19e1d5"
      },
      "source": [
        "**Q4.** Many important datasets contain a race variable, typically limited to a handful of values often including Black, White, Asian, Latino, and Indigenous. This question looks at data gathering efforts on this variable by the U.S. Federal government.\n",
        "\n",
        "1. How did the most recent US Census gather data on race?\n",
        "2. Why do we gather these data? What role do these kinds of data play in politics and society? Why does data quality matter?\n",
        "3. Please provide a constructive criticism of how the Census was conducted: What was done well? What do you think was missing? How should future large scale surveys be adjusted to best reflect the diversity of the population? Could some of the Census' good practices be adopted more widely to gather richer and more useful data?\n",
        "4. How did the Census gather data on sex and gender? Please provide a similar constructive criticism of their practices.\n",
        "5. When it comes to cleaning data, what concerns do you have about protected characteristics like sex, gender, sexual identity, or race? What challenges can you imagine arising when there are missing values? What good or bad practices might people adopt, and why?\n",
        "6. Suppose someone invented an algorithm to impute values for protected characteristics like race, gender, sex, or sexuality. What kinds of concerns would you have?"
      ]
    }
  ],
  "metadata": {
    "colab": {
      "provenance": []
    },
    "kernelspec": {
      "display_name": "Python 3 (ipykernel)",
      "language": "python",
      "name": "python3"
    },
    "language_info": {
      "codemirror_mode": {
        "name": "ipython",
        "version": 3
      },
      "file_extension": ".py",
      "mimetype": "text/x-python",
      "name": "python",
      "nbconvert_exporter": "python",
      "pygments_lexer": "ipython3",
      "version": "3.10.4"
    }
  },
  "nbformat": 4,
  "nbformat_minor": 5
}